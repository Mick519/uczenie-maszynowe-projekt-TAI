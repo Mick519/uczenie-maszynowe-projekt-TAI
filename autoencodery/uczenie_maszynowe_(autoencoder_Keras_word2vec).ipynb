{
  "nbformat": 4,
  "nbformat_minor": 0,
  "metadata": {
    "colab": {
      "provenance": [],
      "machine_shape": "hm",
      "gpuType": "V28"
    },
    "kernelspec": {
      "name": "python3",
      "display_name": "Python 3"
    },
    "language_info": {
      "name": "python"
    },
    "accelerator": "TPU"
  },
  "cells": [
    {
      "cell_type": "markdown",
      "source": [
        "Połączenie z google drive"
      ],
      "metadata": {
        "id": "7gvUqvrFbUP4"
      }
    },
    {
      "cell_type": "code",
      "execution_count": 1,
      "metadata": {
        "id": "n3h-by9mbUP5",
        "colab": {
          "base_uri": "https://localhost:8080/"
        },
        "outputId": "26995e3d-5b68-4c0f-baae-615ac2f765a4"
      },
      "outputs": [
        {
          "output_type": "stream",
          "name": "stdout",
          "text": [
            "Mounted at /content/drive\n"
          ]
        }
      ],
      "source": [
        "from google.colab import drive\n",
        "drive.mount('/content/drive')"
      ]
    },
    {
      "cell_type": "markdown",
      "source": [
        "Niebędne importy"
      ],
      "metadata": {
        "id": "CSQRgPkVl7Me"
      }
    },
    {
      "cell_type": "code",
      "source": [
        "import pandas as pd\n",
        "import numpy as np\n",
        "import tensorflow as tf\n",
        "from tensorflow.keras.models import Model\n",
        "from tensorflow.keras.layers import Input, Dense\n",
        "from sklearn.model_selection import KFold\n",
        "from sklearn.metrics import confusion_matrix, classification_report"
      ],
      "metadata": {
        "id": "zz1cRFjkl6st"
      },
      "execution_count": 2,
      "outputs": []
    },
    {
      "cell_type": "markdown",
      "source": [
        "Wczytanie danych"
      ],
      "metadata": {
        "id": "fJdriab5Nd_5"
      }
    },
    {
      "cell_type": "code",
      "source": [
        "embeddings_path = '/content/drive/My Drive/data_sety/normalized_word2vec_embeddings.csv'\n",
        "data_embeddings = pd.read_csv(embeddings_path)\n",
        "\n",
        "original_data_path = '/content/drive/My Drive/data_sety/ready_data_set.csv'\n",
        "original_data = pd.read_csv(original_data_path)\n",
        "labels_true = original_data['label']\n"
      ],
      "metadata": {
        "id": "8AWu8X1r-o0g"
      },
      "execution_count": 3,
      "outputs": []
    },
    {
      "cell_type": "markdown",
      "source": [
        "Podział danych na treningowe i testowe (będziemy trenować tylko i wyłącznie na wiadomościach typu nie spam)"
      ],
      "metadata": {
        "id": "4jvcQR5ES1j3"
      }
    },
    {
      "cell_type": "code",
      "source": [
        "X_train = data_embeddings[labels_true == 0]\n",
        "y_train = labels_true[labels_true == 0]\n",
        "X_test = data_embeddings\n",
        "y_test = labels_true"
      ],
      "metadata": {
        "id": "PrZERviWSxqp"
      },
      "execution_count": 4,
      "outputs": []
    },
    {
      "cell_type": "markdown",
      "source": [
        "Wykrywanie i inicjalizacja TPU"
      ],
      "metadata": {
        "id": "Q9B-kLx7YkZr"
      }
    },
    {
      "cell_type": "code",
      "source": [
        "resolver = tf.distribute.cluster_resolver.TPUClusterResolver()\n",
        "tf.config.experimental_connect_to_cluster(resolver)\n",
        "tf.tpu.experimental.initialize_tpu_system(resolver)\n",
        "strategy = tf.distribute.TPUStrategy(resolver)"
      ],
      "metadata": {
        "id": "oJznoTOCYm_S"
      },
      "execution_count": 5,
      "outputs": []
    },
    {
      "cell_type": "markdown",
      "source": [
        "Ustawienia modelu"
      ],
      "metadata": {
        "id": "Ono1Otj5mBPL"
      }
    },
    {
      "cell_type": "code",
      "source": [
        "# Liczba cech\n",
        "input_dim = X_train.shape[1]\n",
        "\n",
        "# Liczba neuronów w warstwie kodowania\n",
        "encoding_dim = 32"
      ],
      "metadata": {
        "id": "3FbEKrKhl9g7"
      },
      "execution_count": 6,
      "outputs": []
    },
    {
      "cell_type": "markdown",
      "source": [
        "Funckja budująca autoencoder"
      ],
      "metadata": {
        "id": "jXquOaNUmG7i"
      }
    },
    {
      "cell_type": "code",
      "source": [
        "def build_autoencoder(input_dim, encoding_dim):\n",
        "    # Ustawienie warstwy wejściowej\n",
        "    input_layer = Input(shape=(input_dim,))\n",
        "\n",
        "    # Ustawienie warstwy enkodowania\n",
        "    encoded = Dense(encoding_dim, activation='relu')(input_layer)\n",
        "\n",
        "    # Ustawienie warstwy dekodowania\n",
        "    decoded = Dense(input_dim, activation='sigmoid')(encoded)\n",
        "\n",
        "    # Budowanie autoencodera\n",
        "    autoencoder = Model(input_layer, decoded)\n",
        "\n",
        "    # Kompilacja modelu autoencodera z optymalizatorem adam oraz funkcją straty mse\n",
        "    autoencoder.compile(optimizer='adam', loss='mse')\n",
        "\n",
        "    # Zwrócenie autoencodera\n",
        "    return autoencoder"
      ],
      "metadata": {
        "id": "tXNUyB7qmKBP"
      },
      "execution_count": 7,
      "outputs": []
    },
    {
      "cell_type": "markdown",
      "source": [
        "5-krotna walidacja krzyżowa. Sprawdamy tutaj jak dobrze autoencoder uczy się rekonstrukcji wiadomości typu nie spam na zbiorze treningowym.\n",
        "\n",
        "Do oceny używamy średniego błędu kwadratowego - MSE oraz wbudowanego w sklearn raportu klasyfikacji (wyświetla on metryki związane z klasyfikacją) oraz macierzy konfuzji (pokazuje ona ile przewidywań każdego rodzaju (True Positives, False Positives, True Negatives, False Negatives) zostało wykonanych dla każdej klasy)."
      ],
      "metadata": {
        "id": "NWUatSjKUC84"
      }
    },
    {
      "cell_type": "code",
      "source": [
        "kf = KFold(n_splits=5, shuffle=True, random_state=42)\n",
        "mse_train = []\n",
        "mse_val = []\n",
        "mse_test = []\n",
        "all_y_pred = []\n",
        "all_y_true = []"
      ],
      "metadata": {
        "id": "ZM2-ygEDTZtI"
      },
      "execution_count": 8,
      "outputs": []
    },
    {
      "cell_type": "code",
      "source": [
        "for fold, (train_index, val_index) in enumerate(kf.split(X_train)):\n",
        "    X_train_fold, X_val_fold = X_train.iloc[train_index], X_train.iloc[val_index]\n",
        "\n",
        "    with strategy.scope():\n",
        "        # Budowanie autoencodera\n",
        "        autoencoder = build_autoencoder(input_dim, encoding_dim)\n",
        "\n",
        "\n",
        "        history = autoencoder.fit(X_train_fold, X_train_fold, # Trenujemy autoencoder na danych treningowych.\n",
        "                                  epochs=50, # Liczba pełnych przebiegów przez dane treningowe.\n",
        "                                  batch_size=256, # Liczba próbek przetwarzanych przed zaktualizowaniem modelu.\n",
        "                                  shuffle=True, # Przypadkowe mieszanie danych przed każdą epoką.\n",
        "                                  validation_data=(X_val_fold, X_val_fold), # Dane walidacyjne używane do oceny modelu w trakcie treningu.\n",
        "                                  verbose=0) # Ukrywanie szczegółowych informacji o przzebiegu treningu.\n",
        "\n",
        "    # Dodanie do listy błędu kwadratowego (MSE) dla aktualnej iteracji\n",
        "    mse_train.append(history.history['loss'])\n",
        "    mse_val.append(history.history['val_loss'])\n",
        "\n",
        "    # Rekonstrukcja danych walidacyjnych na danych testowych (czyli pełny zbiór danych)\n",
        "    reconstructions = autoencoder.predict(X_test) # Zrekonstrułowane dane testowe (każdy wiersza zawiera wiadomości a w każdej wiadomości są zrekonstrułowane pokolei słowa)\n",
        "    reconstruction_errors = np.mean(np.square(reconstructions - X_test), axis=1) # Obliczenie dla każdego zdania średniego błędu kwadratowego dla każdego/wiersza wiadomości\n",
        "    mse_test.append(np.mean(reconstruction_errors)) # Oblicza średni błąd kwadratowy\n",
        "\n",
        "    # Ustal próg rekonstrukcji na podstawie błędów na danych treningowych\n",
        "    train_reconstructions = autoencoder.predict(X_train_fold)\n",
        "    train_reconstruction_errors = np.mean(np.square(train_reconstructions - X_train_fold), axis=1)\n",
        "    threshold = np.percentile(train_reconstruction_errors, 95) # Oblicza percentyl z train_reconstruction_errors (wyznacza wartość dokładności rekonstrukcji powyżej której znajduje się 95% wszystki wiadomości)\n",
        "\n",
        "    # Klasyfikacja wiadomości jako spam lub nie-spam na podstawie błędów rekonstrukcji\n",
        "    y_pred_fold = reconstruction_errors > threshold\n",
        "    all_y_pred.extend(y_pred_fold) # Przewidziane etykiety\n",
        "    all_y_true.extend(y_test) # Prawdziwe etykiety\n",
        "\n",
        "    # Wyświetlenie średniego MSE dla bieżącego folda\n",
        "    print(\"Fold\" + str(fold + 1))\n",
        "    print(\"Średni MSE dla treningu: \" + str(np.mean(history.history['loss'])))\n",
        "    print(\"Średni MSE dla walidacji: \" + str(np.mean(history.history['val_loss'])))\n",
        "    print(\"Średni MSE dla danych testowych: \" + str(np.mean(reconstruction_errors)))\n",
        "\n",
        "    # Wyświetlenie raportu klasyfikacji i macierzy konfuzji dla bieżącego folda\n",
        "    print(\"Raport klasyfikacji dla bieżącego folda:\")\n",
        "    print(classification_report(y_test, y_pred_fold, target_names=['Not Spam', 'Spam']))\n",
        "\n",
        "    print(\"Macierz konfuzji dla bieżącego folda:\")\n",
        "    print(confusion_matrix(y_test, y_pred_fold))"
      ],
      "metadata": {
        "colab": {
          "base_uri": "https://localhost:8080/"
        },
        "id": "UT-RD54AUDYg",
        "outputId": "f5c11b20-f1a5-4dde-ca24-755440598bec"
      },
      "execution_count": 9,
      "outputs": [
        {
          "output_type": "stream",
          "name": "stdout",
          "text": [
            "6058/6058 [==============================] - 47s 8ms/step\n",
            "2554/2554 [==============================] - 21s 8ms/step\n",
            "Fold1\n",
            "Średni MSE dla treningu: 0.006600839067250491\n",
            "Średni MSE dla walidacji: 0.005673279268667102\n",
            "Średni MSE dla danych testowych: 0.005428586393756369\n",
            "Raport klasyfikacji dla bieżącego folda:\n",
            "              precision    recall  f1-score   support\n",
            "\n",
            "    Not Spam       0.57      0.95      0.71    102159\n",
            "        Spam       0.78      0.20      0.32     91689\n",
            "\n",
            "    accuracy                           0.60    193848\n",
            "   macro avg       0.68      0.57      0.51    193848\n",
            "weighted avg       0.67      0.60      0.53    193848\n",
            "\n",
            "Macierz konfuzji dla bieżącego folda:\n",
            "[[97074  5085]\n",
            " [73402 18287]]\n",
            "6058/6058 [==============================] - 49s 8ms/step\n",
            "2554/2554 [==============================] - 20s 7ms/step\n",
            "Fold2\n",
            "Średni MSE dla treningu: 0.006582772377878427\n",
            "Średni MSE dla walidacji: 0.0056814838480204344\n",
            "Średni MSE dla danych testowych: 0.005438010403606508\n",
            "Raport klasyfikacji dla bieżącego folda:\n",
            "              precision    recall  f1-score   support\n",
            "\n",
            "    Not Spam       0.57      0.95      0.71    102159\n",
            "        Spam       0.78      0.20      0.32     91689\n",
            "\n",
            "    accuracy                           0.60    193848\n",
            "   macro avg       0.68      0.58      0.52    193848\n",
            "weighted avg       0.67      0.60      0.53    193848\n",
            "\n",
            "Macierz konfuzji dla bieżącego folda:\n",
            "[[97044  5115]\n",
            " [73103 18586]]\n",
            "6058/6058 [==============================] - 47s 8ms/step\n",
            "2554/2554 [==============================] - 21s 8ms/step\n",
            "Fold3\n",
            "Średni MSE dla treningu: 0.006526527339592576\n",
            "Średni MSE dla walidacji: 0.00567647703923285\n",
            "Średni MSE dla danych testowych: 0.0054622663253690385\n",
            "Raport klasyfikacji dla bieżącego folda:\n",
            "              precision    recall  f1-score   support\n",
            "\n",
            "    Not Spam       0.57      0.95      0.72    102159\n",
            "        Spam       0.79      0.21      0.34     91689\n",
            "\n",
            "    accuracy                           0.60    193848\n",
            "   macro avg       0.68      0.58      0.53    193848\n",
            "weighted avg       0.68      0.60      0.54    193848\n",
            "\n",
            "Macierz konfuzji dla bieżącego folda:\n",
            "[[97059  5100]\n",
            " [72204 19485]]\n",
            "6058/6058 [==============================] - 48s 8ms/step\n",
            "2554/2554 [==============================] - 20s 8ms/step\n",
            "Fold4\n",
            "Średni MSE dla treningu: 0.006570742065086961\n",
            "Średni MSE dla walidacji: 0.005727303922176361\n",
            "Średni MSE dla danych testowych: 0.005441620703752927\n",
            "Raport klasyfikacji dla bieżącego folda:\n",
            "              precision    recall  f1-score   support\n",
            "\n",
            "    Not Spam       0.57      0.95      0.71    102159\n",
            "        Spam       0.77      0.19      0.31     91689\n",
            "\n",
            "    accuracy                           0.59    193848\n",
            "   macro avg       0.67      0.57      0.51    193848\n",
            "weighted avg       0.67      0.59      0.52    193848\n",
            "\n",
            "Macierz konfuzji dla bieżącego folda:\n",
            "[[96987  5172]\n",
            " [73911 17778]]\n",
            "6058/6058 [==============================] - 47s 8ms/step\n",
            "2554/2554 [==============================] - 20s 8ms/step\n",
            "Fold5\n",
            "Średni MSE dla treningu: 0.0066132121160626415\n",
            "Średni MSE dla walidacji: 0.005675359442830086\n",
            "Średni MSE dla danych testowych: 0.0054580406300853935\n",
            "Raport klasyfikacji dla bieżącego folda:\n",
            "              precision    recall  f1-score   support\n",
            "\n",
            "    Not Spam       0.57      0.95      0.71    102159\n",
            "        Spam       0.79      0.21      0.33     91689\n",
            "\n",
            "    accuracy                           0.60    193848\n",
            "   macro avg       0.68      0.58      0.52    193848\n",
            "weighted avg       0.67      0.60      0.53    193848\n",
            "\n",
            "Macierz konfuzji dla bieżącego folda:\n",
            "[[97082  5077]\n",
            " [72834 18855]]\n"
          ]
        }
      ]
    },
    {
      "cell_type": "markdown",
      "source": [
        "Przekształcenie do tablicy numpy dla przewidzianych i prawdziwych etykiet"
      ],
      "metadata": {
        "id": "KF0-tdP4SA8b"
      }
    },
    {
      "cell_type": "code",
      "source": [
        "all_y_pred_nump = np.array(all_y_pred)\n",
        "all_y_true_nump = np.array(all_y_true)"
      ],
      "metadata": {
        "id": "yKptu9ONR41x"
      },
      "execution_count": 10,
      "outputs": []
    },
    {
      "cell_type": "markdown",
      "source": [
        "Wygenerowanie raportu"
      ],
      "metadata": {
        "id": "H13cyZQsSDAv"
      }
    },
    {
      "cell_type": "code",
      "source": [
        "classification_report_str = classification_report(all_y_true_nump, all_y_pred_nump, target_names=['Not Spam', 'Spam'])\n",
        "confusion_matrix_str = str(confusion_matrix(all_y_true_nump, all_y_pred_nump))"
      ],
      "metadata": {
        "id": "csKZCuaKOevK"
      },
      "execution_count": 11,
      "outputs": []
    },
    {
      "cell_type": "code",
      "source": [
        "mean_mse_train = np.mean([np.mean(mse) for mse in mse_train])\n",
        "mean_mse_val = np.mean([np.mean(mse) for mse in mse_val])\n",
        "mean_mse_test = np.mean(mse_test)"
      ],
      "metadata": {
        "id": "sRR75QU_T-9f"
      },
      "execution_count": 12,
      "outputs": []
    },
    {
      "cell_type": "markdown",
      "source": [
        "Wyświetlenie podsumowania"
      ],
      "metadata": {
        "id": "4yleWf9M2vZl"
      }
    },
    {
      "cell_type": "code",
      "source": [
        "# Obliczanie średniego MSE ze wszystkicj foldów\n",
        "print(\"Średni MSE dla treningu dla wszystkich foldów: \" + str(mean_mse_train))\n",
        "print(\"Średni MSE dla walidacji dla wszystkich foldów: \" + str(mean_mse_val))\n",
        "print(\"Średni MSE dla danych testowych dla wszystkich foldów: \" + str(mean_mse_test))\n",
        "\n",
        "# Raport klasyfikacji na danych walidacyjnych ze wszystkich foldów.\n",
        "print(classification_report_str)\n",
        "\n",
        "# Macierz pomyłek na danych walidacyjnych ze wszystkich foldów\n",
        "print(confusion_matrix_str)"
      ],
      "metadata": {
        "colab": {
          "base_uri": "https://localhost:8080/"
        },
        "id": "6BFKlxrP1hfS",
        "outputId": "ea75659f-0c71-47cb-de46-255dda7cf06f"
      },
      "execution_count": 13,
      "outputs": [
        {
          "output_type": "stream",
          "name": "stdout",
          "text": [
            "Średni MSE dla treningu dla wszystkich foldów: 0.00657881859317422\n",
            "Średni MSE dla walidacji dla wszystkich foldów: 0.005686780704185367\n",
            "Średni MSE dla danych testowych dla wszystkich foldów: 0.005445704891314047\n",
            "              precision    recall  f1-score   support\n",
            "\n",
            "    Not Spam       0.57      0.95      0.71    510795\n",
            "        Spam       0.78      0.20      0.32    458445\n",
            "\n",
            "    accuracy                           0.60    969240\n",
            "   macro avg       0.68      0.58      0.52    969240\n",
            "weighted avg       0.67      0.60      0.53    969240\n",
            "\n",
            "[[485246  25549]\n",
            " [365454  92991]]\n"
          ]
        }
      ]
    },
    {
      "cell_type": "markdown",
      "source": [
        "Zapisanie wyników do pliku"
      ],
      "metadata": {
        "id": "PnrQJkxUEnB9"
      }
    },
    {
      "cell_type": "code",
      "source": [
        "with open('/content/drive/My Drive/data_sety/folds_keras_word2vec_validation_classification_report.txt', 'w') as f:\n",
        "    f.write(\"Raport klasyfikacji na danych walidacyjnych:\\n\")\n",
        "    f.write(classification_report_str)\n",
        "    f.write(\"\\nMacierz konfuzji na danych walidacyjnych:\\n\")\n",
        "    f.write(confusion_matrix_str)"
      ],
      "metadata": {
        "id": "pm5yNyceESTB"
      },
      "execution_count": 14,
      "outputs": []
    },
    {
      "cell_type": "code",
      "source": [
        "with open('/content/drive/My Drive/data_sety/folds_keras_word2vec_validation_mse.txt', 'w') as f:\n",
        "    f.write(\"Średni MSE dla treningu dla wszystkich foldów: \" + str(mean_mse_train) + \"\\n\")\n",
        "    f.write(\"Średni MSE dla walidacji dla wszystkich foldów: \" + str(mean_mse_val) + \"\\n\")\n",
        "    f.write(\"Średni MSE dla danych testowych dla wszystkich foldów: \" + str(mean_mse_test) + \"\\n\")"
      ],
      "metadata": {
        "id": "Gq28rWs7EhN9"
      },
      "execution_count": 15,
      "outputs": []
    },
    {
      "cell_type": "markdown",
      "source": [
        "Trenowanie autoencodera na całym zbiorze treningowym"
      ],
      "metadata": {
        "id": "3EjiHDIkUFO-"
      }
    },
    {
      "cell_type": "code",
      "source": [
        "with strategy.scope():\n",
        "    autoencoder = build_autoencoder(input_dim, encoding_dim)\n",
        "    history = autoencoder.fit(X_train, X_train,\n",
        "                              epochs=50,\n",
        "                              batch_size=256,\n",
        "                              shuffle=True,\n",
        "                              validation_split=0.2,\n",
        "                              verbose=1)"
      ],
      "metadata": {
        "colab": {
          "base_uri": "https://localhost:8080/"
        },
        "id": "TFRNiAqOUH1O",
        "outputId": "7d881bd0-059e-478d-c69b-6ecb6a55e948"
      },
      "execution_count": 16,
      "outputs": [
        {
          "output_type": "stream",
          "name": "stdout",
          "text": [
            "Epoch 1/50\n",
            "320/320 [==============================] - 7s 16ms/step - loss: 0.0511 - val_loss: 0.0081\n",
            "Epoch 2/50\n",
            "320/320 [==============================] - 4s 12ms/step - loss: 0.0078 - val_loss: 0.0071\n",
            "Epoch 3/50\n",
            "320/320 [==============================] - 4s 12ms/step - loss: 0.0071 - val_loss: 0.0067\n",
            "Epoch 4/50\n",
            "320/320 [==============================] - 4s 12ms/step - loss: 0.0068 - val_loss: 0.0065\n",
            "Epoch 5/50\n",
            "320/320 [==============================] - 4s 12ms/step - loss: 0.0065 - val_loss: 0.0063\n",
            "Epoch 6/50\n",
            "320/320 [==============================] - 4s 13ms/step - loss: 0.0064 - val_loss: 0.0062\n",
            "Epoch 7/50\n",
            "320/320 [==============================] - 4s 12ms/step - loss: 0.0063 - val_loss: 0.0061\n",
            "Epoch 8/50\n",
            "320/320 [==============================] - 4s 12ms/step - loss: 0.0062 - val_loss: 0.0060\n",
            "Epoch 9/50\n",
            "320/320 [==============================] - 4s 12ms/step - loss: 0.0061 - val_loss: 0.0059\n",
            "Epoch 10/50\n",
            "320/320 [==============================] - 4s 12ms/step - loss: 0.0060 - val_loss: 0.0058\n",
            "Epoch 11/50\n",
            "320/320 [==============================] - 4s 12ms/step - loss: 0.0060 - val_loss: 0.0058\n",
            "Epoch 12/50\n",
            "320/320 [==============================] - 4s 12ms/step - loss: 0.0059 - val_loss: 0.0058\n",
            "Epoch 13/50\n",
            "320/320 [==============================] - 4s 12ms/step - loss: 0.0059 - val_loss: 0.0057\n",
            "Epoch 14/50\n",
            "320/320 [==============================] - 4s 12ms/step - loss: 0.0058 - val_loss: 0.0057\n",
            "Epoch 15/50\n",
            "320/320 [==============================] - 4s 12ms/step - loss: 0.0058 - val_loss: 0.0056\n",
            "Epoch 16/50\n",
            "320/320 [==============================] - 4s 12ms/step - loss: 0.0057 - val_loss: 0.0056\n",
            "Epoch 17/50\n",
            "320/320 [==============================] - 4s 12ms/step - loss: 0.0057 - val_loss: 0.0056\n",
            "Epoch 18/50\n",
            "320/320 [==============================] - 4s 12ms/step - loss: 0.0057 - val_loss: 0.0055\n",
            "Epoch 19/50\n",
            "320/320 [==============================] - 4s 12ms/step - loss: 0.0056 - val_loss: 0.0055\n",
            "Epoch 20/50\n",
            "320/320 [==============================] - 4s 12ms/step - loss: 0.0056 - val_loss: 0.0055\n",
            "Epoch 21/50\n",
            "320/320 [==============================] - 4s 12ms/step - loss: 0.0056 - val_loss: 0.0055\n",
            "Epoch 22/50\n",
            "320/320 [==============================] - 4s 12ms/step - loss: 0.0055 - val_loss: 0.0054\n",
            "Epoch 23/50\n",
            "320/320 [==============================] - 4s 12ms/step - loss: 0.0055 - val_loss: 0.0054\n",
            "Epoch 24/50\n",
            "320/320 [==============================] - 4s 12ms/step - loss: 0.0055 - val_loss: 0.0054\n",
            "Epoch 25/50\n",
            "320/320 [==============================] - 4s 12ms/step - loss: 0.0055 - val_loss: 0.0054\n",
            "Epoch 26/50\n",
            "320/320 [==============================] - 4s 12ms/step - loss: 0.0055 - val_loss: 0.0054\n",
            "Epoch 27/50\n",
            "320/320 [==============================] - 4s 12ms/step - loss: 0.0055 - val_loss: 0.0053\n",
            "Epoch 28/50\n",
            "320/320 [==============================] - 4s 12ms/step - loss: 0.0054 - val_loss: 0.0053\n",
            "Epoch 29/50\n",
            "320/320 [==============================] - 4s 12ms/step - loss: 0.0054 - val_loss: 0.0053\n",
            "Epoch 30/50\n",
            "320/320 [==============================] - 4s 12ms/step - loss: 0.0054 - val_loss: 0.0053\n",
            "Epoch 31/50\n",
            "320/320 [==============================] - 4s 12ms/step - loss: 0.0054 - val_loss: 0.0053\n",
            "Epoch 32/50\n",
            "320/320 [==============================] - 4s 12ms/step - loss: 0.0054 - val_loss: 0.0053\n",
            "Epoch 33/50\n",
            "320/320 [==============================] - 4s 12ms/step - loss: 0.0054 - val_loss: 0.0053\n",
            "Epoch 34/50\n",
            "320/320 [==============================] - 4s 12ms/step - loss: 0.0054 - val_loss: 0.0053\n",
            "Epoch 35/50\n",
            "320/320 [==============================] - 4s 12ms/step - loss: 0.0054 - val_loss: 0.0053\n",
            "Epoch 36/50\n",
            "320/320 [==============================] - 4s 14ms/step - loss: 0.0054 - val_loss: 0.0053\n",
            "Epoch 37/50\n",
            "320/320 [==============================] - 4s 12ms/step - loss: 0.0053 - val_loss: 0.0053\n",
            "Epoch 38/50\n",
            "320/320 [==============================] - 4s 12ms/step - loss: 0.0053 - val_loss: 0.0053\n",
            "Epoch 39/50\n",
            "320/320 [==============================] - 4s 12ms/step - loss: 0.0053 - val_loss: 0.0053\n",
            "Epoch 40/50\n",
            "320/320 [==============================] - 4s 12ms/step - loss: 0.0053 - val_loss: 0.0053\n",
            "Epoch 41/50\n",
            "320/320 [==============================] - 4s 12ms/step - loss: 0.0053 - val_loss: 0.0053\n",
            "Epoch 42/50\n",
            "320/320 [==============================] - 4s 12ms/step - loss: 0.0053 - val_loss: 0.0052\n",
            "Epoch 43/50\n",
            "320/320 [==============================] - 4s 12ms/step - loss: 0.0053 - val_loss: 0.0052\n",
            "Epoch 44/50\n",
            "320/320 [==============================] - 4s 12ms/step - loss: 0.0053 - val_loss: 0.0052\n",
            "Epoch 45/50\n",
            "320/320 [==============================] - 4s 12ms/step - loss: 0.0053 - val_loss: 0.0052\n",
            "Epoch 46/50\n",
            "320/320 [==============================] - 4s 12ms/step - loss: 0.0053 - val_loss: 0.0052\n",
            "Epoch 47/50\n",
            "320/320 [==============================] - 4s 12ms/step - loss: 0.0053 - val_loss: 0.0052\n",
            "Epoch 48/50\n",
            "320/320 [==============================] - 4s 12ms/step - loss: 0.0053 - val_loss: 0.0052\n",
            "Epoch 49/50\n",
            "320/320 [==============================] - 4s 12ms/step - loss: 0.0053 - val_loss: 0.0052\n",
            "Epoch 50/50\n",
            "320/320 [==============================] - 4s 12ms/step - loss: 0.0053 - val_loss: 0.0052\n"
          ]
        }
      ]
    },
    {
      "cell_type": "markdown",
      "source": [
        "Zapisanie autoencodera do pliku"
      ],
      "metadata": {
        "id": "SXIKZcGVE119"
      }
    },
    {
      "cell_type": "code",
      "source": [
        "autoencoder.save('/content/drive/My Drive/data_sety/final_keras_word2vec_autoencoder_model.h5')"
      ],
      "metadata": {
        "colab": {
          "base_uri": "https://localhost:8080/"
        },
        "id": "Sr7n5hdqE6Y_",
        "outputId": "2f7dc3b8-5206-4c17-eab3-7858b5a64c15"
      },
      "execution_count": 17,
      "outputs": [
        {
          "output_type": "stream",
          "name": "stderr",
          "text": [
            "/usr/local/lib/python3.10/dist-packages/keras/src/engine/training.py:3103: UserWarning: You are saving your model as an HDF5 file via `model.save()`. This file format is considered legacy. We recommend using instead the native Keras format, e.g. `model.save('my_model.keras')`.\n",
            "  saving_api.save_model(\n"
          ]
        }
      ]
    },
    {
      "cell_type": "markdown",
      "source": [
        "Rekonstrukcja danych testowych"
      ],
      "metadata": {
        "id": "4OSW0vqXoWkQ"
      }
    },
    {
      "cell_type": "code",
      "source": [
        "reconstructions = autoencoder.predict(X_test)\n",
        "reconstruction_errors = np.mean(np.square(reconstructions - X_test), axis=1)\n",
        "mse_test = []\n",
        "mse_test.append(np.mean(reconstruction_errors))"
      ],
      "metadata": {
        "colab": {
          "base_uri": "https://localhost:8080/"
        },
        "id": "m8FbD5icoZqZ",
        "outputId": "bf730999-8394-42d5-8e2e-3c72191ed962"
      },
      "execution_count": 18,
      "outputs": [
        {
          "output_type": "stream",
          "name": "stdout",
          "text": [
            "6058/6058 [==============================] - 48s 8ms/step\n"
          ]
        }
      ]
    },
    {
      "cell_type": "markdown",
      "source": [
        "Ustal próg rekonstrukcji na podstawie błędów na danych treningowych"
      ],
      "metadata": {
        "id": "8GYFRpQ9olQ1"
      }
    },
    {
      "cell_type": "code",
      "source": [
        "train_reconstructions = autoencoder.predict(X_train)\n",
        "train_reconstruction_errors = np.mean(np.square(train_reconstructions - X_train), axis=1)\n",
        "threshold = np.percentile(train_reconstruction_errors, 95)"
      ],
      "metadata": {
        "colab": {
          "base_uri": "https://localhost:8080/"
        },
        "id": "p745uQUEolhc",
        "outputId": "8e971158-8d4c-4d72-e450-931a2ad8ee2a"
      },
      "execution_count": 19,
      "outputs": [
        {
          "output_type": "stream",
          "name": "stdout",
          "text": [
            "3193/3193 [==============================] - 25s 8ms/step\n"
          ]
        }
      ]
    },
    {
      "cell_type": "markdown",
      "source": [
        "Klasyfikacja jako spam lub nie-spam na podstawie błędów rekonstrukcji"
      ],
      "metadata": {
        "id": "gbP1Q47XoxDf"
      }
    },
    {
      "cell_type": "code",
      "source": [
        "y_pred = reconstruction_errors > threshold"
      ],
      "metadata": {
        "id": "4txzwXYOowiY"
      },
      "execution_count": 20,
      "outputs": []
    },
    {
      "cell_type": "markdown",
      "source": [
        "Raport klasyfikacji i macierzz pomyłek oraz MSE dla treningu na całym zbiorze"
      ],
      "metadata": {
        "id": "LoUoqnDMo6Ke"
      }
    },
    {
      "cell_type": "code",
      "source": [
        "classification_report_test_str = classification_report(y_test, y_pred, target_names=['Not Spam', 'Spam'])\n",
        "confusion_matrix_test_str = str(confusion_matrix(y_test, y_pred))"
      ],
      "metadata": {
        "id": "3OAb7rdXO0dy"
      },
      "execution_count": 21,
      "outputs": []
    },
    {
      "cell_type": "code",
      "source": [
        "mean_mse_train = np.mean(history.history['loss'])\n",
        "mean_mse_val = np.mean(history.history['val_loss'])\n",
        "mean_mse_test = np.mean(mse_test)"
      ],
      "metadata": {
        "id": "7co461SwUqPe"
      },
      "execution_count": 22,
      "outputs": []
    },
    {
      "cell_type": "code",
      "source": [
        "print(\"średni MSE dla treningu: \" + str(mean_mse_train))\n",
        "print(\"Średni MSE dla walidacji: \" + str(mean_mse_val))\n",
        "print(\"Średni MSE dla danych testowych: \" + str(mean_mse_test))\n",
        "\n",
        "print(classification_report_test_str)\n",
        "print(confusion_matrix_test_str)"
      ],
      "metadata": {
        "colab": {
          "base_uri": "https://localhost:8080/"
        },
        "id": "cOtDkQxwo6jJ",
        "outputId": "39e95070-38e0-45f0-bd12-319a823e0112"
      },
      "execution_count": 23,
      "outputs": [
        {
          "output_type": "stream",
          "name": "stdout",
          "text": [
            "średni MSE dla treningu: 0.006590225920081139\n",
            "Średni MSE dla walidacji: 0.005599378058686853\n",
            "Średni MSE dla danych testowych: 0.005443098342799986\n",
            "              precision    recall  f1-score   support\n",
            "\n",
            "    Not Spam       0.57      0.95      0.71    102159\n",
            "        Spam       0.78      0.20      0.31     91689\n",
            "\n",
            "    accuracy                           0.59    193848\n",
            "   macro avg       0.67      0.57      0.51    193848\n",
            "weighted avg       0.67      0.59      0.52    193848\n",
            "\n",
            "[[97051  5108]\n",
            " [73765 17924]]\n"
          ]
        }
      ]
    },
    {
      "cell_type": "markdown",
      "source": [
        "Zapisanie danych do pliku"
      ],
      "metadata": {
        "id": "2brwjyUiFWeO"
      }
    },
    {
      "cell_type": "code",
      "source": [
        "with open('/content/drive/My Drive/data_sety/final_keras_word2vec_validation_classification_report.txt', 'w') as f:\n",
        "    f.write(\"Raport klasyfikacji na danych testowych:\\n\")\n",
        "    f.write(classification_report_test_str)\n",
        "    f.write(\"\\nMacierz konfuzji na danych testowych:\\n\")\n",
        "    f.write(confusion_matrix_test_str)"
      ],
      "metadata": {
        "id": "RNc19cPlFTOF"
      },
      "execution_count": 24,
      "outputs": []
    },
    {
      "cell_type": "code",
      "source": [
        "with open('/content/drive/My Drive/data_sety/final_keras_word2vec_validation_mse.txt', 'w') as f:\n",
        "    f.write(\"Średni MSE dla treningu: \" + str(mean_mse_train) + \"\\n\")\n",
        "    f.write(\"Średni MSE dla walidacji: \" + str(mean_mse_val) + \"\\n\")\n",
        "    f.write(\"Średni MSE dla danych testowych: \" + str(mean_mse_test) + \"\\n\")"
      ],
      "metadata": {
        "id": "SXcQxfLJFT1w"
      },
      "execution_count": 25,
      "outputs": []
    }
  ]
}