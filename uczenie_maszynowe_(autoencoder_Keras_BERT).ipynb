{
  "nbformat": 4,
  "nbformat_minor": 0,
  "metadata": {
    "colab": {
      "provenance": [],
      "machine_shape": "hm",
      "gpuType": "V28"
    },
    "kernelspec": {
      "name": "python3",
      "display_name": "Python 3"
    },
    "language_info": {
      "name": "python"
    },
    "accelerator": "TPU"
  },
  "cells": [
    {
      "cell_type": "markdown",
      "source": [
        "Połączenie z google drive"
      ],
      "metadata": {
        "id": "7gvUqvrFbUP4"
      }
    },
    {
      "cell_type": "code",
      "execution_count": 1,
      "metadata": {
        "id": "n3h-by9mbUP5",
        "colab": {
          "base_uri": "https://localhost:8080/"
        },
        "outputId": "73509d6e-1fbf-470b-d55d-2a16e63a7721"
      },
      "outputs": [
        {
          "output_type": "stream",
          "name": "stdout",
          "text": [
            "Mounted at /content/drive\n"
          ]
        }
      ],
      "source": [
        "from google.colab import drive\n",
        "drive.mount('/content/drive')"
      ]
    },
    {
      "cell_type": "markdown",
      "source": [
        "Niebędne importy"
      ],
      "metadata": {
        "id": "CSQRgPkVl7Me"
      }
    },
    {
      "cell_type": "code",
      "source": [
        "import pandas as pd\n",
        "import numpy as np\n",
        "import tensorflow as tf\n",
        "from tensorflow.keras.models import Model\n",
        "from tensorflow.keras.layers import Input, Dense\n",
        "from sklearn.model_selection import KFold\n",
        "from sklearn.metrics import confusion_matrix, classification_report"
      ],
      "metadata": {
        "id": "zz1cRFjkl6st"
      },
      "execution_count": 2,
      "outputs": []
    },
    {
      "cell_type": "markdown",
      "source": [
        "Wczytanie danych"
      ],
      "metadata": {
        "id": "fJdriab5Nd_5"
      }
    },
    {
      "cell_type": "code",
      "source": [
        "embeddings_path = '/content/drive/My Drive/data_sety/normalized_bert_embeddings.csv'\n",
        "data_embeddings = pd.read_csv(embeddings_path)\n",
        "\n",
        "original_data_path = '/content/drive/My Drive/data_sety/ready_data_set.csv'\n",
        "original_data = pd.read_csv(original_data_path)\n",
        "labels_true = original_data['label']\n"
      ],
      "metadata": {
        "id": "8AWu8X1r-o0g"
      },
      "execution_count": 3,
      "outputs": []
    },
    {
      "cell_type": "markdown",
      "source": [
        "Podział danych na treningowe i testowe (będziemy trenować tylko i wyłącznie na wiadomościach typu nie spam)"
      ],
      "metadata": {
        "id": "4jvcQR5ES1j3"
      }
    },
    {
      "cell_type": "code",
      "source": [
        "X_train = data_embeddings[labels_true == 0]\n",
        "y_train = labels_true[labels_true == 0]\n",
        "X_test = data_embeddings\n",
        "y_test = labels_true"
      ],
      "metadata": {
        "id": "PrZERviWSxqp"
      },
      "execution_count": 4,
      "outputs": []
    },
    {
      "cell_type": "markdown",
      "source": [
        "Wykrywanie i inicjalizacja TPU"
      ],
      "metadata": {
        "id": "Q9B-kLx7YkZr"
      }
    },
    {
      "cell_type": "code",
      "source": [
        "resolver = tf.distribute.cluster_resolver.TPUClusterResolver()\n",
        "tf.config.experimental_connect_to_cluster(resolver)\n",
        "tf.tpu.experimental.initialize_tpu_system(resolver)\n",
        "strategy = tf.distribute.TPUStrategy(resolver)"
      ],
      "metadata": {
        "id": "oJznoTOCYm_S"
      },
      "execution_count": 5,
      "outputs": []
    },
    {
      "cell_type": "markdown",
      "source": [
        "Ustawienia modelu"
      ],
      "metadata": {
        "id": "Ono1Otj5mBPL"
      }
    },
    {
      "cell_type": "code",
      "source": [
        "# Liczba cech\n",
        "input_dim = X_train.shape[1]\n",
        "\n",
        "# Liczba neuronów w warstwie kodowania\n",
        "encoding_dim = 32"
      ],
      "metadata": {
        "id": "3FbEKrKhl9g7"
      },
      "execution_count": 6,
      "outputs": []
    },
    {
      "cell_type": "markdown",
      "source": [
        "Funckja budująca autoencoder"
      ],
      "metadata": {
        "id": "jXquOaNUmG7i"
      }
    },
    {
      "cell_type": "code",
      "source": [
        "def build_autoencoder(input_dim, encoding_dim):\n",
        "    # Ustawienie warstwy wejściowej\n",
        "    input_layer = Input(shape=(input_dim,))\n",
        "\n",
        "    # Ustawienie warstwy enkodowania\n",
        "    encoded = Dense(encoding_dim, activation='relu')(input_layer)\n",
        "\n",
        "    # Ustawienie warstwy dekodowania\n",
        "    decoded = Dense(input_dim, activation='sigmoid')(encoded)\n",
        "\n",
        "    # Budowanie autoencodera\n",
        "    autoencoder = Model(input_layer, decoded)\n",
        "\n",
        "    # Kompilacja modelu autoencodera z optymalizatorem adam oraz funkcją straty mse\n",
        "    autoencoder.compile(optimizer='adam', loss='mse')\n",
        "\n",
        "    # Zwrócenie autoencodera\n",
        "    return autoencoder"
      ],
      "metadata": {
        "id": "tXNUyB7qmKBP"
      },
      "execution_count": 7,
      "outputs": []
    },
    {
      "cell_type": "markdown",
      "source": [
        "5-krotna walidacja krzyżowa. Sprawdamy tutaj jak dobrze autoencoder uczy się rekonstrukcji wiadomości typu nie spam na zbiorze treningowym.\n",
        "\n",
        "Do oceny używamy średniego błędu kwadratowego - MSE oraz wbudowanego w sklearn raportu klasyfikacji (wyświetla on metryki związane z klasyfikacją) oraz macierzy konfuzji (pokazuje ona ile przewidywań każdego rodzaju (True Positives, False Positives, True Negatives, False Negatives) zostało wykonanych dla każdej klasy)."
      ],
      "metadata": {
        "id": "NWUatSjKUC84"
      }
    },
    {
      "cell_type": "code",
      "source": [
        "kf = KFold(n_splits=5, shuffle=True, random_state=42)\n",
        "mse_train = []\n",
        "mse_val = []\n",
        "mse_test = []\n",
        "all_y_pred = []\n",
        "all_y_true = []"
      ],
      "metadata": {
        "id": "ZM2-ygEDTZtI"
      },
      "execution_count": 8,
      "outputs": []
    },
    {
      "cell_type": "code",
      "source": [
        "for fold, (train_index, val_index) in enumerate(kf.split(X_train)):\n",
        "    X_train_fold, X_val_fold = X_train.iloc[train_index], X_train.iloc[val_index]\n",
        "\n",
        "    with strategy.scope():\n",
        "        # Budowanie autoencodera\n",
        "        autoencoder = build_autoencoder(input_dim, encoding_dim)\n",
        "\n",
        "\n",
        "        history = autoencoder.fit(X_train_fold, X_train_fold, # Trenujemy autoencoder na danych treningowych.\n",
        "                                  epochs=50, # Liczba pełnych przebiegów przez dane treningowe.\n",
        "                                  batch_size=256, # Liczba próbek przetwarzanych przed zaktualizowaniem modelu.\n",
        "                                  shuffle=True, # Przypadkowe mieszanie danych przed każdą epoką.\n",
        "                                  validation_data=(X_val_fold, X_val_fold), # Dane walidacyjne używane do oceny modelu w trakcie treningu.\n",
        "                                  verbose=0) # Ukrywanie szczegółowych informacji o przzebiegu treningu.\n",
        "\n",
        "    # Dodanie do listy błędu kwadratowego (MSE) dla aktualnej iteracji\n",
        "    mse_train.append(history.history['loss'])\n",
        "    mse_val.append(history.history['val_loss'])\n",
        "\n",
        "    # Rekonstrukcja danych walidacyjnych na danych testowych (czyli pełny zbiór danych)\n",
        "    reconstructions = autoencoder.predict(X_test) # Zrekonstrułowane dane testowe (każdy wiersza zawiera wiadomości a w każdej wiadomości są zrekonstrułowane pokolei słowa)\n",
        "    reconstruction_errors = np.mean(np.square(reconstructions - X_test), axis=1) # Obliczenie dla każdego zdania średniego błędu kwadratowego dla każdego/wiersza wiadomości\n",
        "    mse_test.append(np.mean(reconstruction_errors)) # Oblicza średni błąd kwadratowy\n",
        "\n",
        "    # Ustal próg rekonstrukcji na podstawie błędów na danych treningowych\n",
        "    train_reconstructions = autoencoder.predict(X_train_fold)\n",
        "    train_reconstruction_errors = np.mean(np.square(train_reconstructions - X_train_fold), axis=1)\n",
        "    threshold = np.percentile(train_reconstruction_errors, 95) # Oblicza percentyl z train_reconstruction_errors (wyznacza wartość dokładności rekonstrukcji powyżej której znajduje się 95% wszystki wiadomości)\n",
        "\n",
        "    # Klasyfikacja wiadomości jako spam lub nie-spam na podstawie błędów rekonstrukcji\n",
        "    y_pred_fold = reconstruction_errors > threshold\n",
        "    all_y_pred.extend(y_pred_fold) # Przewidziane etykiety\n",
        "    all_y_true.extend(y_test) # Prawdziwe etykiety\n",
        "\n",
        "    # Wyświetlenie średniego MSE dla bieżącego folda\n",
        "    print(\"Fold\" + str(fold + 1))\n",
        "    print(\"Średni MSE dla treningu: \" + str(np.mean(history.history['loss'])))\n",
        "    print(\"Średni MSE dla walidacji: \" + str(np.mean(history.history['val_loss'])))\n",
        "    print(\"Średni MSE dla danych testowych: \" + str(np.mean(reconstruction_errors)))\n",
        "\n",
        "    # Wyświetlenie raportu klasyfikacji i macierzy konfuzji dla bieżącego folda\n",
        "    print(\"Raport klasyfikacji dla bieżącego folda:\")\n",
        "    print(classification_report(y_test, y_pred_fold, target_names=['Not Spam', 'Spam']))\n",
        "\n",
        "    print(\"Macierz konfuzji dla bieżącego folda:\")\n",
        "    print(confusion_matrix(y_test, y_pred_fold))"
      ],
      "metadata": {
        "colab": {
          "base_uri": "https://localhost:8080/"
        },
        "id": "UT-RD54AUDYg",
        "outputId": "648a587f-19b0-4701-ee02-94262d919d47"
      },
      "execution_count": 9,
      "outputs": [
        {
          "output_type": "stream",
          "name": "stdout",
          "text": [
            "6058/6058 [==============================] - 48s 8ms/step\n",
            "2554/2554 [==============================] - 21s 8ms/step\n",
            "Fold1\n",
            "Średni MSE dla treningu: 0.0016867575468495488\n",
            "Średni MSE dla walidacji: 0.0009985379746649415\n",
            "Średni MSE dla danych testowych: 0.0009648056850786827\n",
            "Raport klasyfikacji dla bieżącego folda:\n",
            "              precision    recall  f1-score   support\n",
            "\n",
            "    Not Spam       0.56      0.95      0.71    102159\n",
            "        Spam       0.76      0.18      0.29     91689\n",
            "\n",
            "    accuracy                           0.58    193848\n",
            "   macro avg       0.66      0.56      0.50    193848\n",
            "weighted avg       0.66      0.58      0.51    193848\n",
            "\n",
            "Macierz konfuzji dla bieżącego folda:\n",
            "[[97028  5131]\n",
            " [75480 16209]]\n",
            "6058/6058 [==============================] - 48s 8ms/step\n",
            "2554/2554 [==============================] - 22s 8ms/step\n",
            "Fold2\n",
            "Średni MSE dla treningu: 0.0016754625702742488\n",
            "Średni MSE dla walidacji: 0.0009798554657027125\n",
            "Średni MSE dla danych testowych: 0.0009637740115844861\n",
            "Raport klasyfikacji dla bieżącego folda:\n",
            "              precision    recall  f1-score   support\n",
            "\n",
            "    Not Spam       0.56      0.95      0.71    102159\n",
            "        Spam       0.76      0.18      0.29     91689\n",
            "\n",
            "    accuracy                           0.58    193848\n",
            "   macro avg       0.66      0.56      0.50    193848\n",
            "weighted avg       0.66      0.58      0.51    193848\n",
            "\n",
            "Macierz konfuzji dla bieżącego folda:\n",
            "[[97078  5081]\n",
            " [75413 16276]]\n",
            "6058/6058 [==============================] - 49s 8ms/step\n",
            "2554/2554 [==============================] - 21s 8ms/step\n",
            "Fold3\n",
            "Średni MSE dla treningu: 0.0016765049088280648\n",
            "Średni MSE dla walidacji: 0.0009923622338101267\n",
            "Średni MSE dla danych testowych: 0.0009633841603253088\n",
            "Raport klasyfikacji dla bieżącego folda:\n",
            "              precision    recall  f1-score   support\n",
            "\n",
            "    Not Spam       0.56      0.95      0.71    102159\n",
            "        Spam       0.76      0.18      0.29     91689\n",
            "\n",
            "    accuracy                           0.58    193848\n",
            "   macro avg       0.66      0.56      0.50    193848\n",
            "weighted avg       0.66      0.58      0.51    193848\n",
            "\n",
            "Macierz konfuzji dla bieżącego folda:\n",
            "[[97016  5143]\n",
            " [75437 16252]]\n",
            "6058/6058 [==============================] - 48s 8ms/step\n",
            "2554/2554 [==============================] - 21s 8ms/step\n",
            "Fold4\n",
            "Średni MSE dla treningu: 0.0017037926486227662\n",
            "Średni MSE dla walidacji: 0.0010081072733737527\n",
            "Średni MSE dla danych testowych: 0.0009656530398236388\n",
            "Raport klasyfikacji dla bieżącego folda:\n",
            "              precision    recall  f1-score   support\n",
            "\n",
            "    Not Spam       0.56      0.95      0.71    102159\n",
            "        Spam       0.76      0.18      0.29     91689\n",
            "\n",
            "    accuracy                           0.58    193848\n",
            "   macro avg       0.66      0.56      0.50    193848\n",
            "weighted avg       0.66      0.58      0.51    193848\n",
            "\n",
            "Macierz konfuzji dla bieżącego folda:\n",
            "[[97041  5118]\n",
            " [75564 16125]]\n",
            "6058/6058 [==============================] - 48s 8ms/step\n",
            "2554/2554 [==============================] - 21s 8ms/step\n",
            "Fold5\n",
            "Średni MSE dla treningu: 0.0016833322367165238\n",
            "Średni MSE dla walidacji: 0.0009919807116966694\n",
            "Średni MSE dla danych testowych: 0.0009635613082634221\n",
            "Raport klasyfikacji dla bieżącego folda:\n",
            "              precision    recall  f1-score   support\n",
            "\n",
            "    Not Spam       0.56      0.95      0.71    102159\n",
            "        Spam       0.76      0.18      0.29     91689\n",
            "\n",
            "    accuracy                           0.58    193848\n",
            "   macro avg       0.66      0.56      0.50    193848\n",
            "weighted avg       0.66      0.58      0.51    193848\n",
            "\n",
            "Macierz konfuzji dla bieżącego folda:\n",
            "[[97071  5088]\n",
            " [75387 16302]]\n"
          ]
        }
      ]
    },
    {
      "cell_type": "markdown",
      "source": [
        "Przekształcenie do tablicy numpy dla przewidzianych i prawdziwych etykiet"
      ],
      "metadata": {
        "id": "KF0-tdP4SA8b"
      }
    },
    {
      "cell_type": "code",
      "source": [
        "all_y_pred_nump = np.array(all_y_pred)\n",
        "all_y_true_nump = np.array(all_y_true)"
      ],
      "metadata": {
        "id": "yKptu9ONR41x"
      },
      "execution_count": 10,
      "outputs": []
    },
    {
      "cell_type": "markdown",
      "source": [
        "Wygenerowanie raportu"
      ],
      "metadata": {
        "id": "H13cyZQsSDAv"
      }
    },
    {
      "cell_type": "code",
      "source": [
        "classification_report_str = classification_report(all_y_true_nump, all_y_pred_nump, target_names=['Not Spam', 'Spam'])\n",
        "confusion_matrix_str = str(confusion_matrix(all_y_true_nump, all_y_pred_nump))"
      ],
      "metadata": {
        "id": "csKZCuaKOevK"
      },
      "execution_count": 11,
      "outputs": []
    },
    {
      "cell_type": "code",
      "source": [
        "mean_mse_train = np.mean([np.mean(mse) for mse in mse_train])\n",
        "mean_mse_val = np.mean([np.mean(mse) for mse in mse_val])\n",
        "mean_mse_test = np.mean(mse_test)"
      ],
      "metadata": {
        "id": "sRR75QU_T-9f"
      },
      "execution_count": 12,
      "outputs": []
    },
    {
      "cell_type": "markdown",
      "source": [
        "Wyświetlenie podsumowania"
      ],
      "metadata": {
        "id": "4yleWf9M2vZl"
      }
    },
    {
      "cell_type": "code",
      "source": [
        "# Obliczanie średniego MSE ze wszystkicj foldów\n",
        "print(\"Średni MSE dla treningu dla wszystkich foldów: \" + str(mean_mse_train))\n",
        "print(\"Średni MSE dla walidacji dla wszystkich foldów: \" + str(mean_mse_val))\n",
        "print(\"Średni MSE dla danych testowych dla wszystkich foldów: \" + str(mean_mse_test))\n",
        "\n",
        "# Raport klasyfikacji na danych walidacyjnych ze wszystkich foldów.\n",
        "print(classification_report_str)\n",
        "\n",
        "# Macierz pomyłek na danych walidacyjnych ze wszystkich foldów\n",
        "print(confusion_matrix_str)"
      ],
      "metadata": {
        "colab": {
          "base_uri": "https://localhost:8080/"
        },
        "id": "6BFKlxrP1hfS",
        "outputId": "a636fbe0-b03e-46f5-b0eb-a995b7d0713e"
      },
      "execution_count": 13,
      "outputs": [
        {
          "output_type": "stream",
          "name": "stdout",
          "text": [
            "Średni MSE dla treningu dla wszystkich foldów: 0.0016851699822582305\n",
            "Średni MSE dla walidacji dla wszystkich foldów: 0.0009941687318496405\n",
            "Średni MSE dla danych testowych dla wszystkich foldów: 0.0009642356410151078\n",
            "              precision    recall  f1-score   support\n",
            "\n",
            "    Not Spam       0.56      0.95      0.71    510795\n",
            "        Spam       0.76      0.18      0.29    458445\n",
            "\n",
            "    accuracy                           0.58    969240\n",
            "   macro avg       0.66      0.56      0.50    969240\n",
            "weighted avg       0.66      0.58      0.51    969240\n",
            "\n",
            "[[485234  25561]\n",
            " [377281  81164]]\n"
          ]
        }
      ]
    },
    {
      "cell_type": "markdown",
      "source": [
        "Zapisanie wyników do pliku"
      ],
      "metadata": {
        "id": "PnrQJkxUEnB9"
      }
    },
    {
      "cell_type": "code",
      "source": [
        "with open('/content/drive/My Drive/data_sety/folds_keras_bert_validation_classification_report.txt', 'w') as f:\n",
        "    f.write(\"Raport klasyfikacji na danych walidacyjnych:\\n\")\n",
        "    f.write(classification_report_str)\n",
        "    f.write(\"\\nMacierz konfuzji na danych walidacyjnych:\\n\")\n",
        "    f.write(confusion_matrix_str)"
      ],
      "metadata": {
        "id": "pm5yNyceESTB"
      },
      "execution_count": 14,
      "outputs": []
    },
    {
      "cell_type": "code",
      "source": [
        "with open('/content/drive/My Drive/data_sety/folds_keras_bert_validation_mse.txt', 'w') as f:\n",
        "    f.write(\"Średni MSE dla treningu dla wszystkich foldów: \" + str(mean_mse_train) + \"\\n\")\n",
        "    f.write(\"Średni MSE dla walidacji dla wszystkich foldów: \" + str(mean_mse_val) + \"\\n\")\n",
        "    f.write(\"Średni MSE dla danych testowych dla wszystkich foldów: \" + str(mean_mse_test) + \"\\n\")"
      ],
      "metadata": {
        "id": "Gq28rWs7EhN9"
      },
      "execution_count": 15,
      "outputs": []
    },
    {
      "cell_type": "markdown",
      "source": [
        "Trenowanie autoencodera na całym zbiorze treningowym"
      ],
      "metadata": {
        "id": "3EjiHDIkUFO-"
      }
    },
    {
      "cell_type": "code",
      "source": [
        "with strategy.scope():\n",
        "    autoencoder = build_autoencoder(input_dim, encoding_dim)\n",
        "    history = autoencoder.fit(X_train, X_train,\n",
        "                              epochs=50,\n",
        "                              batch_size=256,\n",
        "                              shuffle=True,\n",
        "                              validation_split=0.2,\n",
        "                              verbose=1)"
      ],
      "metadata": {
        "colab": {
          "base_uri": "https://localhost:8080/"
        },
        "id": "TFRNiAqOUH1O",
        "outputId": "3f832d08-b93a-45e0-fffd-6e1edf690c75"
      },
      "execution_count": 16,
      "outputs": [
        {
          "output_type": "stream",
          "name": "stdout",
          "text": [
            "Epoch 1/50\n",
            "320/320 [==============================] - 8s 20ms/step - loss: 0.0336 - val_loss: 0.0014\n",
            "Epoch 2/50\n",
            "320/320 [==============================] - 4s 14ms/step - loss: 0.0012 - val_loss: 0.0011\n",
            "Epoch 3/50\n",
            "320/320 [==============================] - 4s 14ms/step - loss: 0.0011 - val_loss: 0.0011\n",
            "Epoch 4/50\n",
            "320/320 [==============================] - 4s 14ms/step - loss: 0.0011 - val_loss: 0.0011\n",
            "Epoch 5/50\n",
            "320/320 [==============================] - 4s 14ms/step - loss: 0.0011 - val_loss: 0.0011\n",
            "Epoch 6/50\n",
            "320/320 [==============================] - 4s 14ms/step - loss: 0.0010 - val_loss: 0.0011\n",
            "Epoch 7/50\n",
            "320/320 [==============================] - 5s 14ms/step - loss: 0.0010 - val_loss: 0.0010\n",
            "Epoch 8/50\n",
            "320/320 [==============================] - 5s 14ms/step - loss: 0.0010 - val_loss: 0.0010\n",
            "Epoch 9/50\n",
            "320/320 [==============================] - 4s 14ms/step - loss: 0.0010 - val_loss: 0.0010\n",
            "Epoch 10/50\n",
            "320/320 [==============================] - 4s 14ms/step - loss: 0.0010 - val_loss: 0.0010\n",
            "Epoch 11/50\n",
            "320/320 [==============================] - 4s 14ms/step - loss: 9.9948e-04 - val_loss: 0.0010\n",
            "Epoch 12/50\n",
            "320/320 [==============================] - 4s 14ms/step - loss: 9.9812e-04 - val_loss: 0.0010\n",
            "Epoch 13/50\n",
            "320/320 [==============================] - 4s 14ms/step - loss: 9.9687e-04 - val_loss: 0.0010\n",
            "Epoch 14/50\n",
            "320/320 [==============================] - 4s 14ms/step - loss: 9.9542e-04 - val_loss: 0.0010\n",
            "Epoch 15/50\n",
            "320/320 [==============================] - 4s 14ms/step - loss: 9.9316e-04 - val_loss: 9.9961e-04\n",
            "Epoch 16/50\n",
            "320/320 [==============================] - 4s 14ms/step - loss: 9.8925e-04 - val_loss: 9.9607e-04\n",
            "Epoch 17/50\n",
            "320/320 [==============================] - 5s 16ms/step - loss: 9.8490e-04 - val_loss: 9.9345e-04\n",
            "Epoch 18/50\n",
            "320/320 [==============================] - 5s 14ms/step - loss: 9.8160e-04 - val_loss: 9.9141e-04\n",
            "Epoch 19/50\n",
            "320/320 [==============================] - 4s 14ms/step - loss: 9.7919e-04 - val_loss: 9.8986e-04\n",
            "Epoch 20/50\n",
            "320/320 [==============================] - 4s 14ms/step - loss: 9.7741e-04 - val_loss: 9.8880e-04\n",
            "Epoch 21/50\n",
            "320/320 [==============================] - 4s 14ms/step - loss: 9.7609e-04 - val_loss: 9.8799e-04\n",
            "Epoch 22/50\n",
            "320/320 [==============================] - 4s 14ms/step - loss: 9.7501e-04 - val_loss: 9.8719e-04\n",
            "Epoch 23/50\n",
            "320/320 [==============================] - 4s 14ms/step - loss: 9.7404e-04 - val_loss: 9.8651e-04\n",
            "Epoch 24/50\n",
            "320/320 [==============================] - 4s 14ms/step - loss: 9.7312e-04 - val_loss: 9.8572e-04\n",
            "Epoch 25/50\n",
            "320/320 [==============================] - 4s 14ms/step - loss: 9.7220e-04 - val_loss: 9.8490e-04\n",
            "Epoch 26/50\n",
            "320/320 [==============================] - 4s 14ms/step - loss: 9.7127e-04 - val_loss: 9.8417e-04\n",
            "Epoch 27/50\n",
            "320/320 [==============================] - 4s 14ms/step - loss: 9.7031e-04 - val_loss: 9.8312e-04\n",
            "Epoch 28/50\n",
            "320/320 [==============================] - 4s 14ms/step - loss: 9.6927e-04 - val_loss: 9.8203e-04\n",
            "Epoch 29/50\n",
            "320/320 [==============================] - 4s 14ms/step - loss: 9.6813e-04 - val_loss: 9.8092e-04\n",
            "Epoch 30/50\n",
            "320/320 [==============================] - 4s 14ms/step - loss: 9.6692e-04 - val_loss: 9.7975e-04\n",
            "Epoch 31/50\n",
            "320/320 [==============================] - 4s 14ms/step - loss: 9.6565e-04 - val_loss: 9.7852e-04\n",
            "Epoch 32/50\n",
            "320/320 [==============================] - 4s 14ms/step - loss: 9.6431e-04 - val_loss: 9.7716e-04\n",
            "Epoch 33/50\n",
            "320/320 [==============================] - 4s 14ms/step - loss: 9.6292e-04 - val_loss: 9.7581e-04\n",
            "Epoch 34/50\n",
            "320/320 [==============================] - 4s 14ms/step - loss: 9.6150e-04 - val_loss: 9.7437e-04\n",
            "Epoch 35/50\n",
            "320/320 [==============================] - 4s 14ms/step - loss: 9.6009e-04 - val_loss: 9.7310e-04\n",
            "Epoch 36/50\n",
            "320/320 [==============================] - 4s 14ms/step - loss: 9.5876e-04 - val_loss: 9.7186e-04\n",
            "Epoch 37/50\n",
            "320/320 [==============================] - 4s 14ms/step - loss: 9.5753e-04 - val_loss: 9.7079e-04\n",
            "Epoch 38/50\n",
            "320/320 [==============================] - 4s 14ms/step - loss: 9.5640e-04 - val_loss: 9.6976e-04\n",
            "Epoch 39/50\n",
            "320/320 [==============================] - 4s 14ms/step - loss: 9.5538e-04 - val_loss: 9.6876e-04\n",
            "Epoch 40/50\n",
            "320/320 [==============================] - 4s 14ms/step - loss: 9.5445e-04 - val_loss: 9.6801e-04\n",
            "Epoch 41/50\n",
            "320/320 [==============================] - 4s 14ms/step - loss: 9.5362e-04 - val_loss: 9.6725e-04\n",
            "Epoch 42/50\n",
            "320/320 [==============================] - 4s 14ms/step - loss: 9.5285e-04 - val_loss: 9.6665e-04\n",
            "Epoch 43/50\n",
            "320/320 [==============================] - 4s 14ms/step - loss: 9.5213e-04 - val_loss: 9.6595e-04\n",
            "Epoch 44/50\n",
            "320/320 [==============================] - 4s 14ms/step - loss: 9.5144e-04 - val_loss: 9.6529e-04\n",
            "Epoch 45/50\n",
            "320/320 [==============================] - 4s 14ms/step - loss: 9.5077e-04 - val_loss: 9.6474e-04\n",
            "Epoch 46/50\n",
            "320/320 [==============================] - 5s 15ms/step - loss: 9.5011e-04 - val_loss: 9.6413e-04\n",
            "Epoch 47/50\n",
            "320/320 [==============================] - 4s 14ms/step - loss: 9.4946e-04 - val_loss: 9.6356e-04\n",
            "Epoch 48/50\n",
            "320/320 [==============================] - 4s 14ms/step - loss: 9.4881e-04 - val_loss: 9.6292e-04\n",
            "Epoch 49/50\n",
            "320/320 [==============================] - 4s 14ms/step - loss: 9.4813e-04 - val_loss: 9.6236e-04\n",
            "Epoch 50/50\n",
            "320/320 [==============================] - 4s 14ms/step - loss: 9.4748e-04 - val_loss: 9.6183e-04\n"
          ]
        }
      ]
    },
    {
      "cell_type": "markdown",
      "source": [
        "Zapisanie autoencodera do pliku"
      ],
      "metadata": {
        "id": "SXIKZcGVE119"
      }
    },
    {
      "cell_type": "code",
      "source": [
        "autoencoder.save('/content/drive/My Drive/data_sety/final_keras_bert_autoencoder_model.h5')"
      ],
      "metadata": {
        "colab": {
          "base_uri": "https://localhost:8080/"
        },
        "id": "Sr7n5hdqE6Y_",
        "outputId": "7efeac5e-428c-469e-a2a8-7cfd0cc5a46a"
      },
      "execution_count": 17,
      "outputs": [
        {
          "output_type": "stream",
          "name": "stderr",
          "text": [
            "/usr/local/lib/python3.10/dist-packages/keras/src/engine/training.py:3103: UserWarning: You are saving your model as an HDF5 file via `model.save()`. This file format is considered legacy. We recommend using instead the native Keras format, e.g. `model.save('my_model.keras')`.\n",
            "  saving_api.save_model(\n"
          ]
        }
      ]
    },
    {
      "cell_type": "markdown",
      "source": [
        "Rekonstrukcja danych testowych"
      ],
      "metadata": {
        "id": "4OSW0vqXoWkQ"
      }
    },
    {
      "cell_type": "code",
      "source": [
        "reconstructions = autoencoder.predict(X_test)\n",
        "reconstruction_errors = np.mean(np.square(reconstructions - X_test), axis=1)\n",
        "mse_test = []\n",
        "mse_test.append(np.mean(reconstruction_errors))"
      ],
      "metadata": {
        "colab": {
          "base_uri": "https://localhost:8080/"
        },
        "id": "m8FbD5icoZqZ",
        "outputId": "4f8c0ccd-4b2e-4603-ccce-8250a1af938f"
      },
      "execution_count": 18,
      "outputs": [
        {
          "output_type": "stream",
          "name": "stdout",
          "text": [
            "6058/6058 [==============================] - 49s 8ms/step\n"
          ]
        }
      ]
    },
    {
      "cell_type": "markdown",
      "source": [
        "Ustal próg rekonstrukcji na podstawie błędów na danych treningowych"
      ],
      "metadata": {
        "id": "8GYFRpQ9olQ1"
      }
    },
    {
      "cell_type": "code",
      "source": [
        "train_reconstructions = autoencoder.predict(X_train)\n",
        "train_reconstruction_errors = np.mean(np.square(train_reconstructions - X_train), axis=1)\n",
        "threshold = np.percentile(train_reconstruction_errors, 95)"
      ],
      "metadata": {
        "colab": {
          "base_uri": "https://localhost:8080/"
        },
        "id": "p745uQUEolhc",
        "outputId": "9650932e-9ec4-44bd-84a1-ec3b16a6231d"
      },
      "execution_count": 19,
      "outputs": [
        {
          "output_type": "stream",
          "name": "stdout",
          "text": [
            "3193/3193 [==============================] - 26s 8ms/step\n"
          ]
        }
      ]
    },
    {
      "cell_type": "markdown",
      "source": [
        "Klasyfikacja jako spam lub nie-spam na podstawie błędów rekonstrukcji"
      ],
      "metadata": {
        "id": "gbP1Q47XoxDf"
      }
    },
    {
      "cell_type": "code",
      "source": [
        "y_pred = reconstruction_errors > threshold"
      ],
      "metadata": {
        "id": "4txzwXYOowiY"
      },
      "execution_count": 20,
      "outputs": []
    },
    {
      "cell_type": "markdown",
      "source": [
        "Raport klasyfikacji i macierzz pomyłek oraz MSE dla treningu na całym zbiorze"
      ],
      "metadata": {
        "id": "LoUoqnDMo6Ke"
      }
    },
    {
      "cell_type": "code",
      "source": [
        "classification_report_test_str = classification_report(y_test, y_pred, target_names=['Not Spam', 'Spam'])\n",
        "confusion_matrix_test_str = str(confusion_matrix(y_test, y_pred))"
      ],
      "metadata": {
        "id": "3OAb7rdXO0dy"
      },
      "execution_count": 21,
      "outputs": []
    },
    {
      "cell_type": "code",
      "source": [
        "mean_mse_train = np.mean(history.history['loss'])\n",
        "mean_mse_val = np.mean(history.history['val_loss'])\n",
        "mean_mse_test = np.mean(mse_test)"
      ],
      "metadata": {
        "id": "7co461SwUqPe"
      },
      "execution_count": 22,
      "outputs": []
    },
    {
      "cell_type": "code",
      "source": [
        "print(\"średni MSE dla treningu: \" + str(mean_mse_train))\n",
        "print(\"Średni MSE dla walidacji: \" + str(mean_mse_val))\n",
        "print(\"Średni MSE dla danych testowych: \" + str(mean_mse_test))\n",
        "\n",
        "print(classification_report_test_str)\n",
        "print(confusion_matrix_test_str)"
      ],
      "metadata": {
        "colab": {
          "base_uri": "https://localhost:8080/"
        },
        "id": "cOtDkQxwo6jJ",
        "outputId": "919d4900-ddc9-4fe9-bc1c-11fa6254c5f3"
      },
      "execution_count": 23,
      "outputs": [
        {
          "output_type": "stream",
          "name": "stdout",
          "text": [
            "średni MSE dla treningu: 0.0016360149451065808\n",
            "Średni MSE dla walidacji: 0.0010007246129680426\n",
            "Średni MSE dla danych testowych: 0.0009637603204995521\n",
            "              precision    recall  f1-score   support\n",
            "\n",
            "    Not Spam       0.56      0.95      0.71    102159\n",
            "        Spam       0.76      0.18      0.29     91689\n",
            "\n",
            "    accuracy                           0.58    193848\n",
            "   macro avg       0.66      0.56      0.50    193848\n",
            "weighted avg       0.66      0.58      0.51    193848\n",
            "\n",
            "[[97051  5108]\n",
            " [75551 16138]]\n"
          ]
        }
      ]
    },
    {
      "cell_type": "markdown",
      "source": [
        "Zapisanie danych do pliku"
      ],
      "metadata": {
        "id": "2brwjyUiFWeO"
      }
    },
    {
      "cell_type": "code",
      "source": [
        "with open('/content/drive/My Drive/data_sety/final_keras_bert_validation_classification_report.txt', 'w') as f:\n",
        "    f.write(\"Raport klasyfikacji na danych testowych:\\n\")\n",
        "    f.write(classification_report_test_str)\n",
        "    f.write(\"\\nMacierz konfuzji na danych testowych:\\n\")\n",
        "    f.write(confusion_matrix_test_str)"
      ],
      "metadata": {
        "id": "RNc19cPlFTOF"
      },
      "execution_count": 24,
      "outputs": []
    },
    {
      "cell_type": "code",
      "source": [
        "with open('/content/drive/My Drive/data_sety/final_keras_bert_validation_mse.txt', 'w') as f:\n",
        "    f.write(\"Średni MSE dla treningu: \" + str(mean_mse_train) + \"\\n\")\n",
        "    f.write(\"Średni MSE dla walidacji: \" + str(mean_mse_val) + \"\\n\")\n",
        "    f.write(\"Średni MSE dla danych testowych: \" + str(mean_mse_test) + \"\\n\")"
      ],
      "metadata": {
        "id": "SXcQxfLJFT1w"
      },
      "execution_count": 25,
      "outputs": []
    }
  ]
}